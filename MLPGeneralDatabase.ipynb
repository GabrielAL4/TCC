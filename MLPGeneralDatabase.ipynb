{
 "cells": [
  {
   "cell_type": "code",
   "id": "3354646c-50ad-4ce7-a355-1d90cec2eb87",
   "metadata": {
    "ExecuteTime": {
     "end_time": "2025-03-22T01:34:52.291809Z",
     "start_time": "2025-03-22T01:34:46.427439Z"
    }
   },
   "source": [
    "import pandas as pd\n",
    "\n",
    "# Nome do arquivo\n",
    "csv_name = 'alzheimers_prediction_dataset.csv'\n",
    "\n",
    "# Lê o arquivo diretamente\n",
    "df = pd.read_csv(csv_name)\n",
    "\n",
    "# Visualizar os dados\n",
    "print(\"Amostra dos dados:\")\n",
    "print(df.head())\n",
    "\n",
    "print(\"\\nInformações:\")\n",
    "print(df.info())"
   ],
   "outputs": [
    {
     "name": "stdout",
     "output_type": "stream",
     "text": [
      "Amostra dos dados:\n",
      "        Country  Age  Gender  Education Level   BMI Physical Activity Level  \\\n",
      "0         Spain   90    Male                1  33.0                  Medium   \n",
      "1     Argentina   72    Male                7  29.9                  Medium   \n",
      "2  South Africa   86  Female               19  22.9                    High   \n",
      "3         China   53    Male               17  31.2                     Low   \n",
      "4        Sweden   58  Female                3  30.0                    High   \n",
      "\n",
      "  Smoking Status Alcohol Consumption Diabetes Hypertension  ...  \\\n",
      "0          Never        Occasionally       No           No  ...   \n",
      "1         Former               Never       No           No  ...   \n",
      "2        Current        Occasionally       No          Yes  ...   \n",
      "3          Never           Regularly      Yes           No  ...   \n",
      "4         Former               Never      Yes           No  ...   \n",
      "\n",
      "  Dietary Habits Air Pollution Exposure  Employment Status Marital Status  \\\n",
      "0        Healthy                   High            Retired         Single   \n",
      "1        Healthy                 Medium         Unemployed        Widowed   \n",
      "2        Average                 Medium           Employed         Single   \n",
      "3        Healthy                 Medium            Retired         Single   \n",
      "4      Unhealthy                   High           Employed        Married   \n",
      "\n",
      "  Genetic Risk Factor (APOE-ε4 allele) Social Engagement Level Income Level  \\\n",
      "0                                   No                     Low       Medium   \n",
      "1                                   No                    High          Low   \n",
      "2                                   No                     Low       Medium   \n",
      "3                                   No                    High       Medium   \n",
      "4                                   No                     Low       Medium   \n",
      "\n",
      "  Stress Levels Urban vs Rural Living Alzheimer’s Diagnosis  \n",
      "0          High                 Urban                    No  \n",
      "1          High                 Urban                    No  \n",
      "2          High                 Rural                    No  \n",
      "3           Low                 Rural                    No  \n",
      "4          High                 Rural                    No  \n",
      "\n",
      "[5 rows x 25 columns]\n",
      "\n",
      "Informações:\n",
      "<class 'pandas.core.frame.DataFrame'>\n",
      "RangeIndex: 74283 entries, 0 to 74282\n",
      "Data columns (total 25 columns):\n",
      " #   Column                                Non-Null Count  Dtype  \n",
      "---  ------                                --------------  -----  \n",
      " 0   Country                               74283 non-null  object \n",
      " 1   Age                                   74283 non-null  int64  \n",
      " 2   Gender                                74283 non-null  object \n",
      " 3   Education Level                       74283 non-null  int64  \n",
      " 4   BMI                                   74283 non-null  float64\n",
      " 5   Physical Activity Level               74283 non-null  object \n",
      " 6   Smoking Status                        74283 non-null  object \n",
      " 7   Alcohol Consumption                   74283 non-null  object \n",
      " 8   Diabetes                              74283 non-null  object \n",
      " 9   Hypertension                          74283 non-null  object \n",
      " 10  Cholesterol Level                     74283 non-null  object \n",
      " 11  Family History of Alzheimer’s         74283 non-null  object \n",
      " 12  Cognitive Test Score                  74283 non-null  int64  \n",
      " 13  Depression Level                      74283 non-null  object \n",
      " 14  Sleep Quality                         74283 non-null  object \n",
      " 15  Dietary Habits                        74283 non-null  object \n",
      " 16  Air Pollution Exposure                74283 non-null  object \n",
      " 17  Employment Status                     74283 non-null  object \n",
      " 18  Marital Status                        74283 non-null  object \n",
      " 19  Genetic Risk Factor (APOE-ε4 allele)  74283 non-null  object \n",
      " 20  Social Engagement Level               74283 non-null  object \n",
      " 21  Income Level                          74283 non-null  object \n",
      " 22  Stress Levels                         74283 non-null  object \n",
      " 23  Urban vs Rural Living                 74283 non-null  object \n",
      " 24  Alzheimer’s Diagnosis                 74283 non-null  object \n",
      "dtypes: float64(1), int64(3), object(21)\n",
      "memory usage: 14.2+ MB\n",
      "None\n"
     ]
    }
   ],
   "execution_count": 1
  },
  {
   "cell_type": "code",
   "id": "51534f65-0e1b-4579-abac-fb5d199034fe",
   "metadata": {
    "ExecuteTime": {
     "end_time": "2025-03-22T01:45:36.644032Z",
     "start_time": "2025-03-22T01:45:34.457078Z"
    }
   },
   "source": [
    "from sklearn.neural_network import MLPClassifier\n",
    "\n",
    "mlp = MLPClassifier(hidden_layer_sizes=(64, 32), activation='relu', max_iter=300, random_state=42)\n",
    "mlp.fit(X_train, y_train)"
   ],
   "outputs": [
    {
     "ename": "NameError",
     "evalue": "name 'X_train' is not defined",
     "output_type": "error",
     "traceback": [
      "\u001B[31m---------------------------------------------------------------------------\u001B[39m",
      "\u001B[31mNameError\u001B[39m                                 Traceback (most recent call last)",
      "\u001B[36mCell\u001B[39m\u001B[36m \u001B[39m\u001B[32mIn[2]\u001B[39m\u001B[32m, line 4\u001B[39m\n\u001B[32m      1\u001B[39m \u001B[38;5;28;01mfrom\u001B[39;00m\u001B[38;5;250m \u001B[39m\u001B[34;01msklearn\u001B[39;00m\u001B[34;01m.\u001B[39;00m\u001B[34;01mneural_network\u001B[39;00m\u001B[38;5;250m \u001B[39m\u001B[38;5;28;01mimport\u001B[39;00m MLPClassifier\n\u001B[32m      3\u001B[39m mlp = MLPClassifier(hidden_layer_sizes=(\u001B[32m64\u001B[39m, \u001B[32m32\u001B[39m), activation=\u001B[33m'\u001B[39m\u001B[33mrelu\u001B[39m\u001B[33m'\u001B[39m, max_iter=\u001B[32m300\u001B[39m, random_state=\u001B[32m42\u001B[39m)\n\u001B[32m----> \u001B[39m\u001B[32m4\u001B[39m mlp.fit(\u001B[43mX_train\u001B[49m, y_train)\n",
      "\u001B[31mNameError\u001B[39m: name 'X_train' is not defined"
     ]
    }
   ],
   "execution_count": 2
  },
  {
   "metadata": {
    "ExecuteTime": {
     "end_time": "2025-03-22T01:46:02.541099Z",
     "start_time": "2025-03-22T01:46:02.505552Z"
    }
   },
   "cell_type": "code",
   "source": [
    "from sklearn.inspection import permutation_importance\n",
    "import matplotlib.pyplot as plt\n",
    "import numpy as np\n",
    "\n",
    "# Calcular importância das features no conjunto de teste\n",
    "result = permutation_importance(mlp, X_test, y_test, n_repeats=10, random_state=42, n_jobs=-1)\n",
    "\n",
    "# Ordenar as importâncias\n",
    "importances = result.importances_mean\n",
    "std = result.importances_std\n",
    "indices = np.argsort(importances)[::-1]\n",
    "\n",
    "# Exibir os 10 fatores mais importantes\n",
    "for i in range(10):\n",
    "    print(f\"{i + 1}. {X.columns[indices[i]]}: {importances[indices[i]]:.4f}\")\n",
    "\n",
    "# Plotar gráfico\n",
    "plt.figure(figsize=(12, 8))\n",
    "plt.title(\"Importância das Features (Permutation Importance)\")\n",
    "plt.bar(range(X.shape[1]), importances[indices], yerr=std[indices], align=\"center\")\n",
    "plt.xticks(range(X.shape[1]), X.columns[indices], rotation=90)\n",
    "plt.tight_layout()\n",
    "plt.show()"
   ],
   "id": "cf75a646dfcb2daf",
   "outputs": [
    {
     "ename": "NameError",
     "evalue": "name 'X_test' is not defined",
     "output_type": "error",
     "traceback": [
      "\u001B[31m---------------------------------------------------------------------------\u001B[39m",
      "\u001B[31mNameError\u001B[39m                                 Traceback (most recent call last)",
      "\u001B[36mCell\u001B[39m\u001B[36m \u001B[39m\u001B[32mIn[7]\u001B[39m\u001B[32m, line 6\u001B[39m\n\u001B[32m      3\u001B[39m \u001B[38;5;28;01mimport\u001B[39;00m\u001B[38;5;250m \u001B[39m\u001B[34;01mnumpy\u001B[39;00m\u001B[38;5;250m \u001B[39m\u001B[38;5;28;01mas\u001B[39;00m\u001B[38;5;250m \u001B[39m\u001B[34;01mnp\u001B[39;00m\n\u001B[32m      5\u001B[39m \u001B[38;5;66;03m# Calcular importância das features no conjunto de teste\u001B[39;00m\n\u001B[32m----> \u001B[39m\u001B[32m6\u001B[39m result = permutation_importance(mlp, \u001B[43mX_test\u001B[49m, y_test, n_repeats=\u001B[32m10\u001B[39m, random_state=\u001B[32m42\u001B[39m, n_jobs=-\u001B[32m1\u001B[39m)\n\u001B[32m      8\u001B[39m \u001B[38;5;66;03m# Ordenar as importâncias\u001B[39;00m\n\u001B[32m      9\u001B[39m importances = result.importances_mean\n",
      "\u001B[31mNameError\u001B[39m: name 'X_test' is not defined"
     ]
    }
   ],
   "execution_count": 7
  }
 ],
 "metadata": {
  "kernelspec": {
   "display_name": "Python 3 (ipykernel)",
   "language": "python",
   "name": "python3"
  },
  "language_info": {
   "codemirror_mode": {
    "name": "ipython",
    "version": 3
   },
   "file_extension": ".py",
   "mimetype": "text/x-python",
   "name": "python",
   "nbconvert_exporter": "python",
   "pygments_lexer": "ipython3",
   "version": "3.12.7"
  }
 },
 "nbformat": 4,
 "nbformat_minor": 5
}
