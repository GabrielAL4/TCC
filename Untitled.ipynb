{
 "cells": [
  {
   "cell_type": "code",
   "id": "3354646c-50ad-4ce7-a355-1d90cec2eb87",
   "metadata": {
    "jupyter": {
     "is_executing": true
    }
   },
   "source": [
    "import os\n",
    "import pandas as pd\n",
    "from kaggle.api.kaggle_api_extended import KaggleApi\n",
    "from sklearn.model_selection import train_test_split\n",
    "from sklearn.preprocessing import StandardScaler\n",
    "from sklearn.neural_network import MLPClassifier\n",
    "from sklearn.metrics import classification_report\n",
    "\n",
    "# ========== 1. Baixar os dados do Kaggle ==========\n",
    "\n",
    "# Caminho para a chave da API do Kaggle (kaggle.json)\n",
    "os.environ['KAGGLE_CONFIG_DIR'] = os.path.expanduser('C:/Users/Gabriel Albuquerque/.kaggle')\n",
    "\n",
    "# Inicializar e autenticar\n",
    "api = KaggleApi()\n",
    "api.authenticate()\n",
    "\n",
    "# Nome do dataset e caminho de destino\n",
    "dataset = 'ankushpanday1/alzheimers-prediction-dataset-global'\n",
    "download_path = 'datasets/'\n",
    "\n",
    "# Baixar e descompactar os arquivos\n",
    "api.dataset_download_files(dataset, path=download_path, unzip=True)\n",
    "\n",
    "# ========== 2. Carregar os dados ==========\n",
    "# Verificar os arquivos disponíveis\n",
    "print(\"Arquivos disponíveis:\", os.listdir(download_path))\n",
    "\n"
   ],
   "outputs": [],
   "execution_count": null
  },
  {
   "cell_type": "code",
   "id": "51534f65-0e1b-4579-abac-fb5d199034fe",
   "metadata": {
    "jupyter": {
     "is_executing": true
    }
   },
   "source": [
    "# Substitua abaixo pelo nome do CSV real que foi baixado\n",
    "csv_name = 'AlzheimerDataset.csv'\n",
    "csv_path = os.path.join(download_path, csv_name)\n",
    "\n",
    "df = pd.read_csv(csv_path)\n",
    "\n",
    "# Visualizar os dados\n",
    "print(\"Amostra dos dados:\")\n",
    "print(df.head())\n",
    "print(\"\\nInformações:\")\n",
    "print(df.info())\n",
    "\n",
    "# ========== 3. Pré-processamento e MLP ==========\n",
    "\n",
    "# Substitua \"Diagnosis\" pela coluna que representa o rótulo (target)\n",
    "target_column = 'Class'  # ou 'Diagnosis', dependendo do nome real\n",
    "X = df.drop(columns=[target_column])\n",
    "y = df[target_column]\n",
    "\n",
    "# Normalização\n",
    "scaler = StandardScaler()\n",
    "X_scaled = scaler.fit_transform(X)\n",
    "\n",
    "# Separar treino e teste\n",
    "X_train, X_test, y_train, y_test = train_test_split(X_scaled, y, test_size=0.2, random_state=42)\n",
    "\n",
    "# Criar e treinar o modelo\n",
    "mlp = MLPClassifier(hidden_layer_sizes=(100, 50), max_iter=500, random_state=42)\n",
    "mlp.fit(X_train, y_train)\n",
    "\n",
    "# Avaliar o modelo\n",
    "y_pred = mlp.predict(X_test)\n",
    "print(\"\\nRelatório de Classificação:\")\n",
    "print(classification_report(y_test, y_pred))\n"
   ],
   "outputs": [],
   "execution_count": null
  }
 ],
 "metadata": {
  "kernelspec": {
   "display_name": "Python [conda env:base] *",
   "language": "python",
   "name": "conda-base-py"
  },
  "language_info": {
   "codemirror_mode": {
    "name": "ipython",
    "version": 3
   },
   "file_extension": ".py",
   "mimetype": "text/x-python",
   "name": "python",
   "nbconvert_exporter": "python",
   "pygments_lexer": "ipython3",
   "version": "3.12.7"
  }
 },
 "nbformat": 4,
 "nbformat_minor": 5
}
